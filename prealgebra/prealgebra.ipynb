{
 "cells": [
  {
   "cell_type": "code",
   "execution_count": null,
   "id": "bd6c246b",
   "metadata": {
    "lines_to_next_cell": 2,
    "tags": []
   },
   "outputs": [],
   "source": [
    "# Copyright (c) 2023-2024 William Emerison Six\n",
    "\n",
    "# Permission is hereby granted, free of charge, to any person obtaining a copy\n",
    "# of this software and associated documentation files (the \"Software\"), to deal\n",
    "# in the Software without restriction, including without limitation the rights\n",
    "# to use, copy, modify, merge, publish, distribute, sublicense, and/or sell\n",
    "# copies of the Software, and to permit persons to whom the Software is\n",
    "# furnished to do so, subject to the following conditions:\n",
    "\n",
    "# The above copyright notice and this permission notice shall be included in all\n",
    "# copies or substantial portions of the Software.\n",
    "\n",
    "# THE SOFTWARE IS PROVIDED \"AS IS\", WITHOUT WARRANTY OF ANY KIND, EXPRESS OR\n",
    "# IMPLIED, INCLUDING BUT NOT LIMITED TO THE WARRANTIES OF MERCHANTABILITY,\n",
    "# FITNESS FOR A PARTICULAR PURPOSE AND NONINFRINGEMENT. IN NO EVENT SHALL THE\n",
    "# AUTHORS OR COPYRIGHT HOLDERS BE LIABLE FOR ANY CLAIM, DAMAGES OR OTHER\n",
    "# LIABILITY, WHETHER IN AN ACTION OF CONTRACT, TORT OR OTHERWISE, ARISING FROM,\n",
    "# OUT OF OR IN CONNECTION WITH THE SOFTWARE OR THE USE OR OTHER DEALINGS IN THE\n",
    "# SOFTWARE."
   ]
  },
  {
   "cell_type": "markdown",
   "id": "bd706475",
   "metadata": {
    "lines_to_next_cell": 0
   },
   "source": [
    "Pre-Algebra\n",
    "-----------"
   ]
  },
  {
   "cell_type": "markdown",
   "id": "b149c376-3aef-43cb-8958-4067dcd81125",
   "metadata": {},
   "source": [
    "Do Imports\n",
    "----------"
   ]
  },
  {
   "cell_type": "code",
   "execution_count": null,
   "id": "894a4def",
   "metadata": {
    "tags": []
   },
   "outputs": [],
   "source": [
    "import sympy\n",
    "from galgebra.printer import latex\n",
    "\n",
    "# tell sympy to use our printing by default\n",
    "sympy.init_printing(latex_printer=latex, use_latex=\"mathjax\")\n",
    "\n",
    "\n",
    "from utils import divide_mixed_fractions, add_decimals, subtract_decimals"
   ]
  },
  {
   "cell_type": "markdown",
   "id": "2516198d",
   "metadata": {
    "lines_to_next_cell": 0,
    "tags": []
   },
   "source": [
    "Dividing Mixed Fractions\n",
    "------------------------"
   ]
  },
  {
   "cell_type": "code",
   "execution_count": null,
   "id": "b91b4f85-747f-4aa9-9295-ba6260c9f933",
   "metadata": {
    "tags": []
   },
   "outputs": [],
   "source": [
    "divide_mixed_fractions((3, 1, 3), (1, 5, 9))"
   ]
  },
  {
   "cell_type": "markdown",
   "id": "54dbf253-9cea-4af8-a8de-7313b0f36d72",
   "metadata": {
    "tags": []
   },
   "source": [
    "Adding Decimals\n",
    "---------------"
   ]
  },
  {
   "cell_type": "code",
   "execution_count": null,
   "id": "fed218cf-a2df-457e-bf13-092f481584f1",
   "metadata": {
    "tags": []
   },
   "outputs": [],
   "source": [
    "add_decimals(\"3.14\", \"5.999\")"
   ]
  },
  {
   "cell_type": "markdown",
   "id": "8682220e-40ec-4421-8c2e-1c882681bc36",
   "metadata": {},
   "source": [
    "Subtracting Decimals\n",
    "--------------------"
   ]
  },
  {
   "cell_type": "code",
   "execution_count": null,
   "id": "9da0a386-3387-4465-be1d-ea09e771ce83",
   "metadata": {
    "tags": []
   },
   "outputs": [],
   "source": [
    "subtract_decimals(\"2.0123\",\"3.14\")"
   ]
  },
  {
   "cell_type": "markdown",
   "id": "f03b956b-d4e3-4a1f-8432-3d585e4e83cb",
   "metadata": {},
   "source": [
    "Multiplying Decimals\n",
    "--------------------"
   ]
  },
  {
   "cell_type": "markdown",
   "id": "4d4762ac-0aa2-49ff-bd77-3b004d8758b7",
   "metadata": {},
   "source": [
    "Dividing Decimals\n",
    "-----------------"
   ]
  },
  {
   "cell_type": "markdown",
   "id": "1888d531-dae2-482a-ac14-e6dd806abbff",
   "metadata": {
    "tags": []
   },
   "source": [
    "Converting Fractions And Decimals\n",
    "---------------------------------"
   ]
  },
  {
   "cell_type": "markdown",
   "id": "5d41258e-5778-4c63-8fce-dc33b8488ae7",
   "metadata": {},
   "source": [
    "Ratios and Rates\n",
    "----------------"
   ]
  },
  {
   "cell_type": "markdown",
   "id": "6b8e3625-8a8d-4eb5-9a89-a7f7581ce819",
   "metadata": {},
   "source": [
    "Proportions\n",
    "-----------"
   ]
  },
  {
   "cell_type": "code",
   "execution_count": null,
   "id": "d506b009-3c71-45a5-8e8c-67ffac54a0d2",
   "metadata": {},
   "outputs": [],
   "source": []
  }
 ],
 "metadata": {
  "jupytext": {
   "cell_metadata_filter": "-all",
   "main_language": "python",
   "notebook_metadata_filter": "-all"
  },
  "kernelspec": {
   "display_name": "Python 3 (ipykernel)",
   "language": "python",
   "name": "python3"
  },
  "language_info": {
   "codemirror_mode": {
    "name": "ipython",
    "version": 3
   },
   "file_extension": ".py",
   "mimetype": "text/x-python",
   "name": "python",
   "nbconvert_exporter": "python",
   "pygments_lexer": "ipython3",
   "version": "3.11.7"
  }
 },
 "nbformat": 4,
 "nbformat_minor": 5
}
